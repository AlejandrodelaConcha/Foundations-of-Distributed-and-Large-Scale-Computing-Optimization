{
 "cells": [
  {
   "cell_type": "markdown",
   "metadata": {},
   "source": [
    "<center>\n",
    "    <h1>\n",
    "Selectivity estimation for DBSM\n",
    "    </h1>\n",
    "</center>"
   ]
  },
  {
   "cell_type": "markdown",
   "metadata": {},
   "source": [
    "<center>\n",
    "Alejando de la Concha Duarte\n",
    "</center>"
   ]
  },
  {
   "cell_type": "markdown",
   "metadata": {},
   "source": [
    "In database system management (DBSM), every request formulated by a user can be viewed as an event in a probability space $( Ω, T , P)$ where $ Ω$ is a finite set having $N$ elements. In oder to optimize request fulfillment, it is useful to estimate accurately the probabilities (also called selectivities) associated with the elements of Ω. To do so, rough estimations of the probabilities of a certain number M of events are available. (These estimations are performed based on a history of formulated requests and some a priori knowledge.)"
   ]
  },
  {
   "cell_type": "markdown",
   "metadata": {},
   "source": [
    "Let $x \\in \\mathbb{R}^N$ be the vector of sought probabilities and let $b = (b^{(i)})_{1≤i≤M} \\in ]0, 1]^M$\n",
    "be the vector of estimated probabilities. The problem is equivalent to:\n",
    "\n",
    "$$ minimize_{x∈C} q_b(Ax)  \\ \\ \\ (1)$$\n",
    "where\n",
    "\n",
    "– $C = \\{x = (x^{(i)})_{1≤i≤N} ∈ [0, 1]^N |\\sum_{i=1}^N x^{(i)} = 1\\} $;\n",
    "\n",
    "– $A ∈ \\{0, 1\\}^{MxN}$ is a binary matrix establishing the theoretical link existing\n",
    "between the probabilities of each event and the probabilities of the elements\n",
    "of $Ω$ belonging to it ;\n",
    "\n",
    "– $q_b$ is the quotient function defined as"
   ]
  },
  {
   "cell_type": "markdown",
   "metadata": {},
   "source": [
    "$$∀y = (y^{(i)})_{1≤i≤M} ∈ \\mathbb{R}^M \\ \\ q_b(y) = \\sum_{i=1}^M θ(y^{(i)}/b^{(i)})$$"
   ]
  },
  {
   "cell_type": "markdown",
   "metadata": {},
   "source": [
    "with \n",
    "\n",
    "$$\\theta(\\epsilon)=\\begin{cases} \\epsilon \\ \\ \\text{if} \\ \\ \\epsilon \\geq 1 \\\\ \\epsilon^{-1} \\ \\ \\text{if} \\ \\ 0<\\epsilon<1 \\\\ +\\infty \\ \\ \\text{otherwise} \\end{cases}$$"
   ]
  },
  {
   "cell_type": "code",
   "execution_count": 129,
   "metadata": {},
   "outputs": [],
   "source": [
    "import numpy as np\n",
    "import matplotlib.pyplot as plt\n",
    "import copy"
   ]
  },
  {
   "cell_type": "markdown",
   "metadata": {},
   "source": [
    "## Question 1"
   ]
  },
  {
   "cell_type": "markdown",
   "metadata": {},
   "source": [
    "Is the quotien function convex? lower-semicontinuous?"
   ]
  },
  {
   "cell_type": "code",
   "execution_count": 183,
   "metadata": {},
   "outputs": [],
   "source": [
    "def theta(eps):\n",
    "    if eps>=1:\n",
    "        return(eps)\n",
    "    if eps>0 and eps<=1:\n",
    "        return(1/eps)\n",
    "    else:\n",
    "        return(np.infty)\n",
    "v_theta=np.vectorize(theta)\n",
    "def quotient(y,b):\n",
    "    return sum(v_theta(y/b))"
   ]
  },
  {
   "cell_type": "code",
   "execution_count": 184,
   "metadata": {},
   "outputs": [
    {
     "data": {
      "text/plain": [
       "Text(0.5, 1.0, 'Theta function')"
      ]
     },
     "execution_count": 184,
     "metadata": {},
     "output_type": "execute_result"
    },
    {
     "data": {
      "image/png": "[encoded data removed]",
      "text/plain": [
       "<Figure size 432x288 with 1 Axes>"
      ]
     },
     "metadata": {
      "needs_background": "light"
     },
     "output_type": "display_data"
    }
   ],
   "source": [
    "x=np.arange(1e-1,10,0.1)\n",
    "y=v_theta(x)\n",
    "plt.plot(x,y)\n",
    "plt.title(\"Theta function\")"
   ]
  },
  {
   "cell_type": "markdown",
   "metadata": {},
   "source": [
    "It is easy to see that the epigraph of the $\\theta$ function is convex and as a consequence it is convex. As the quotien function is the sum of convex functions, it is convex too. Similarly, we can show that the quotient function is a sum of continuos functions,so it is continuos."
   ]
  },
  {
   "cell_type": "markdown",
   "metadata": {},
   "source": [
    "## Question 2"
   ]
  },
  {
   "cell_type": "markdown",
   "metadata": {},
   "source": [
    "Does there exist a solution to Problem (1) ?"
   ]
  },
  {
   "cell_type": "markdown",
   "metadata": {},
   "source": [
    "It exist since $C$ is a compact set and $q(A(.))$ is a continuos function. "
   ]
  },
  {
   "cell_type": "markdown",
   "metadata": {},
   "source": [
    "## Question 3"
   ]
  },
  {
   "cell_type": "markdown",
   "metadata": {},
   "source": [
    "Let $\\gamma \\in (0,+\\infty)$. It can be proved that:\n",
    "$$\\forall \\epsilon \\in \\mathbb{R} \\ \\ prox_{\\gamma\\theta}(\\epsilon)=\\begin{cases} \\psi \\ \\ \\text{if} \\ \\ \\epsilon<1-\\gamma \\\\ 1 \\ \\ \\text{if} \\ \\ \\epsilon \\in [1-\\gamma,1+\\gamma] \\\\ \\epsilon-\\gamma \\ \\ \\text{if} \\ \\ \\epsilon>1+\\gamma \\end{cases}$$"
   ]
  },
  {
   "cell_type": "markdown",
   "metadata": {},
   "source": [
    "where $\\psi$ is the unique solution in $(0,1]$ of the cubic equation :\n",
    "                                         \n",
    "$$\\psi^3-\\epsilon\\psi^2=\\gamma$$\n",
    "Deduce the expression of the proximal operator of $\\gamma q_b$, for every $b \\in (0,1)^M$.  "
   ]
  },
  {
   "cell_type": "markdown",
   "metadata": {},
   "source": [
    "$proximity_{\\gamma \\theta}(\\epsilon)=argmin_y \\gamma \\theta(y) + \\frac{(y-\\epsilon)^2}{2}$\n",
    "\n",
    "If we check what would happen in $y>1$, we would have:\n",
    "\n",
    "\\begin{aligned}\n",
    "f(y)=y+\\frac{(y-\\epsilon)^2}{2} \\\\\n",
    "\\Delta_y f(y)= \\gamma+(y-\\epsilon)  \\\\\n",
    "\\end{aligned}\n",
    "that would imply that $\\hat{y}=\\epsilon-\\gamma$ , given the hypothesis it is necessary that $\\epsilon>1+\\gamma$\n",
    "\n",
    "It this is no the case, that is $\\epsilon \\leq 1+-\\gamma$, we would have that: $\\Delta_y f(y)>0$ , meaning that the function is increasing in $(1,\\infty)$ , then $\\hat{y}=1$.\n"
   ]
  },
  {
   "cell_type": "markdown",
   "metadata": {},
   "source": [
    "If $0<y<1$ \n",
    "\\begin{aligned}\n",
    "f(y)=\\frac{\\gamma}{y}+\\frac{(y-\\epsilon)^2}{2} \\\\\n",
    "\\Delta_y f(y)=\\frac{-\\gamma}{y^2}+(y-\\epsilon)\n",
    "\\end{aligned}\n",
    "\n",
    "Then $\\hat{y}$ is the solution to the third degree equation:\n",
    "$$\\hat{y}^3-\\epsilon \\hat{y}^2=\\gamma$$\n",
    "\n",
    "As $y<1$ that would imply that:\n",
    "\\begin{aligned}\n",
    "1-\\epsilon y^2 > y^3-\\epsilon y^2 =\\gamma \\\\\n",
    "\\text{then} \\\\\n",
    "1-\\epsilon y^2 > \\gamma \\ \\ \\text{so}  \\ \\ 1-\\gamma>\\epsilon\n",
    "\\end{aligned}\n",
    "\n",
    "If $\\epsilon>1-\\gamma$ we would have that $\\Delta_y f(y)<(y-1)+\\gamma(1-\\frac{1}{y^2})<0$, meaning that $\\hat{y}=1$\n",
    "\n",
    "Thus we have the result of the statement."
   ]
  },
  {
   "cell_type": "markdown",
   "metadata": {},
   "source": [
    "Given the properties of the proximity operator we would have that $proximity_{q_b}(x)=\\{\\frac{prox_{b_i^2 \\theta}(b_i x_i)}{b_i}\\}_{i \\in \\{1,..M\\}}$"
   ]
  },
  {
   "cell_type": "markdown",
   "metadata": {},
   "source": [
    "## Question 4"
   ]
  },
  {
   "cell_type": "markdown",
   "metadata": {},
   "source": [
    "Write a function for computing this operator."
   ]
  },
  {
   "cell_type": "code",
   "execution_count": 249,
   "metadata": {},
   "outputs": [],
   "source": [
    "def theta_proximity(gamma,x):\n",
    "    if x<1-gamma:\n",
    "        roots=np.roots([1,-x,0,-gamma])\n",
    "        index=np.where((roots>0)*(roots<=1)*(np.imag(roots)==0.))[0]\n",
    "        return(np.real(roots[index]))\n",
    "    if x>1+gamma:\n",
    "        return x-gamma\n",
    "    else:\n",
    "        return 1.\n",
    "\n",
    "def proximity(x,b):\n",
    "    N=len(x)\n",
    "    result=np.zeros(N)\n",
    "    for i in range(N):\n",
    "        result[i]=theta_proximity(x=(1/b[i])*x[i],gamma=(1/(b[i]**2)))*b[i]\n",
    "    return result"
   ]
  },
  {
   "cell_type": "markdown",
   "metadata": {},
   "source": [
    "## Question 5"
   ]
  },
  {
   "cell_type": "markdown",
   "metadata": {},
   "source": [
    "Propose a primal-dual algorithm to solve Problem (1).\n",
    "(A code is provided implementing the projection onto C.)"
   ]
  },
  {
   "cell_type": "code",
   "execution_count": 1,
   "metadata": {},
   "outputs": [],
   "source": [
    "################## Proyection onto a simplex.\n",
    "## Original code: http://www.mcduplessis.com/index.php/2016/08/22/fast-projection-onto-a-simplex-python/\n",
    "def bisectsearch(d,evalpL):\n",
    "        idxL, idxH = 0, d-1\n",
    "        L = evalpL(idxL)\n",
    "        H = evalpL(idxH)\n",
    " \n",
    "        if L<0:\n",
    "            return idxL\n",
    " \n",
    "        while (idxH-idxL)>1:\n",
    "            iMid = int((idxL+idxH)/2)\n",
    "            M = evalpL(iMid)\n",
    " \n",
    "            if M>0:\n",
    "                idxL, L = iMid, M\n",
    "            else:\n",
    "                idxH, H = iMid, M\n",
    " \n",
    "        return idxH\n",
    "\n",
    "def proj(y):\n",
    "    a=np.ones(len(y))\n",
    "    l = y/a\n",
    "    idx = np.argsort(l)\n",
    "    d = len(l)\n",
    " \n",
    "    evalpL = lambda k: np.sum(a[idx[k:]]*(y[idx[k:]] - l[idx[k]]*a[idx[k:]]) ) -1\n",
    "\n",
    " \n",
    "    k = bisectsearch(d,evalpL)\n",
    "    lam = (np.sum(a[idx[k:]]*y[idx[k:]])-1)/np.sum(a[idx[k:]])\n",
    " \n",
    "    x = np.maximum(0, y-lam*a)\n",
    " \n",
    "    return x"
   ]
  },
  {
   "cell_type": "code",
   "execution_count": 2,
   "metadata": {},
   "outputs": [],
   "source": [
    "def Dual_primal(A,b,tol=1e-6):\n",
    "    ##### Algorithm performing a DUal Primal algorithm\n",
    "    ## Input\n",
    "    # A: matrix linking probabilities x and b\n",
    "    # b: probabilities related with observed events.\n",
    "    ## Output\n",
    "    # x: solution of the primal.\n",
    "    sigma=1.\n",
    "    tau=1/(2*sigma*(np.linalg.norm(A,ord=2)**2))\n",
    "    N=A.shape[0]\n",
    "    M=A.shape[1]\n",
    "    #### Initialization.\n",
    "    x_old=np.zeros(M)\n",
    "    v_old=np.zeros(N)\n",
    "    x_new=proj(x_old-tau*(A.transpose().dot(v_old)))\n",
    "    v_new=v_old+sigma*(A.dot(2*x_new-x_old))-proximity(v_old+sigma*(A.dot(2*x_new-x_old)),b)\n",
    "    while((np.sqrt(np.sum((x_old-x_new)**2))>tol)*(np.sqrt(np.sum((v_old-v_new)**2))>tol)):\n",
    "        x_old=copy.deepcopy(x_new)\n",
    "        v_old=copy.deepcopy(v_new)\n",
    "        ### Proximity of the indicator function over the set C.\n",
    "        x_new=proj(x_old-tau*(A.transpose().dot(v_old)))\n",
    "        ### Proximity operator of the conjugate of the quotient function.\n",
    "        v_new=v_old+sigma*(A.dot(2*x_new-x_old))-proximity(v_old+sigma*(A.dot(2*x_new-x_old)),b)\n",
    "    return(x_new)  "
   ]
  },
  {
   "cell_type": "markdown",
   "metadata": {},
   "source": [
    "## Question 6"
   ]
  },
  {
   "cell_type": "markdown",
   "metadata": {},
   "source": [
    "Apply the algorithm to the following example :"
   ]
  },
  {
   "cell_type": "code",
   "execution_count": 261,
   "metadata": {},
   "outputs": [],
   "source": [
    "b=np.array([0.2114,0.6331,0.6312,0.5182,0.9337,0.0035])"
   ]
  },
  {
   "cell_type": "code",
   "execution_count": 262,
   "metadata": {},
   "outputs": [],
   "source": [
    "A=[1,0,1,0,1,0,1,0,1,1,0,0,1,1,0,0,0,1,1,1,1,0,0,1,0,0,0,1,0,0,0,0,1,0,1,0,0,0,0,0,1,1]\n",
    "A=np.array(A).reshape((6,7))"
   ]
  },
  {
   "cell_type": "code",
   "execution_count": 263,
   "metadata": {},
   "outputs": [],
   "source": [
    "x=Dual_primal(A,b,tol=1e-8)"
   ]
  },
  {
   "cell_type": "code",
   "execution_count": 264,
   "metadata": {},
   "outputs": [
    {
     "data": {
      "text/plain": [
       "array([0.        , 0.17114697, 0.32748023, 0.05709316, 0.44078003,\n",
       "       0.        , 0.00349961])"
      ]
     },
     "execution_count": 264,
     "metadata": {},
     "output_type": "execute_result"
    }
   ],
   "source": [
    "x"
   ]
  },
  {
   "cell_type": "markdown",
   "metadata": {},
   "source": [
    "## Question 7"
   ]
  },
  {
   "cell_type": "markdown",
   "metadata": {},
   "source": [
    "Would it be possible to apply ADMM on this example ?"
   ]
  },
  {
   "cell_type": "markdown",
   "metadata": {},
   "source": [
    "It is not possible as ADMM requires $A^*A$ to be an isomorphism, but the rank of this product is 6 not 7, so the transformation is not biyective."
   ]
  },
  {
   "cell_type": "code",
   "execution_count": 204,
   "metadata": {},
   "outputs": [
    {
     "data": {
      "text/plain": [
       "6"
      ]
     },
     "execution_count": 204,
     "metadata": {},
     "output_type": "execute_result"
    }
   ],
   "source": [
    "np.linalg.matrix_rank(A.transpose().dot(A))"
   ]
  }
 ],
 "metadata": {
  "kernelspec": {
   "display_name": "Python 3",
   "language": "python",
   "name": "python3"
  },
  "language_info": {
   "codemirror_mode": {
    "name": "ipython",
    "version": 3
   },
   "file_extension": ".py",
   "mimetype": "text/x-python",
   "name": "python",
   "nbconvert_exporter": "python",
   "pygments_lexer": "ipython3",
   "version": "3.6.8"
  }
 },
 "nbformat": 4,
 "nbformat_minor": 2
}
