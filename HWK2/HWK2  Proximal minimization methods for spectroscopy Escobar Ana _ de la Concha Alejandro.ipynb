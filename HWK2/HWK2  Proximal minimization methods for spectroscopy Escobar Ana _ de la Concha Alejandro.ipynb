{
 "cells": [
  {
   "cell_type": "markdown",
   "metadata": {},
   "source": [
    "<center>\n",
    "    <h1>\n",
    "Reconstruction of DOSY NMR signals\n",
    "    </h1>\n",
    "</center>\n"
   ]
  },
  {
   "cell_type": "markdown",
   "metadata": {},
   "source": [
    "<center>\n",
    "Alejando de la Concha Duarte &emsp;&emsp;&emsp; Ana Escobar\n",
    "</center>"
   ]
  },
  {
   "cell_type": "code",
   "execution_count": 1,
   "metadata": {},
   "outputs": [],
   "source": [
    "import os\n",
    "import matplotlib.pyplot as plt\n",
    "import numpy as np\n",
    "import copy\n",
    "import time\n",
    "from numpy import linalg as LA\n",
    "from scipy import linalg as LAS\n",
    "from scipy.stats import multivariate_normal\n",
    "import copy\n",
    "from scipy.special import lambertw"
   ]
  },
  {
   "cell_type": "code",
   "execution_count": 2,
   "metadata": {},
   "outputs": [
    {
     "data": {
      "text/plain": [
       "'C:\\\\Users\\\\Ana Julia\\\\Desktop\\\\MVA\\\\Opti2\\\\Tps\\\\Tp2'"
      ]
     },
     "execution_count": 2,
     "metadata": {},
     "output_type": "execute_result"
    }
   ],
   "source": [
    "path_to_data=os.getcwd()+\"\\\\x.txt\"\n",
    "os.getcwd()"
   ]
  },
  {
   "cell_type": "markdown",
   "metadata": {},
   "source": [
    "## Generation of syntatic data \n",
    "1\\. Dowload on the website the difusion signal $\\bar{x} \\in\\mathbb{R}^N$, with size $N=200$"
   ]
  },
  {
   "cell_type": "code",
   "execution_count": 3,
   "metadata": {},
   "outputs": [],
   "source": [
    "signal=open(\"x.txt\",\"r\")\n",
    "signal=signal.readlines()\n",
    "signal=[float(x.split(\"\\n\")[0]) for x in signal]\n",
    "signal=np.array(signal)"
   ]
  },
  {
   "cell_type": "markdown",
   "metadata": {},
   "source": [
    "2\\. Create $T$ using an exponential sampling strategy :\n",
    "\\begin{equation*}\n",
    "\\left(\\forall n\\in\\{1,\\dots,N\\}\\right)\\qquad T^{(n)}=T_{\\min}\\exp\\left(-(n-1)\\dfrac{\\log(T_{\\min/T_{\\max}}}{N-1}\\right),\n",
    "\\end{equation*}\n",
    "with $T_{\\min}=1$ and $T_{\\max}=1000$"
   ]
  },
  {
   "cell_type": "code",
   "execution_count": 4,
   "metadata": {},
   "outputs": [],
   "source": [
    "N=200\n",
    "n=np.arange(1,N+1)\n",
    "T_min=1\n",
    "T_max=1000"
   ]
  },
  {
   "cell_type": "code",
   "execution_count": 5,
   "metadata": {},
   "outputs": [],
   "source": [
    "T=T_min*np.exp(-1.*(n-1)*(np.log(T_min/T_max)/(N-1)))"
   ]
  },
  {
   "cell_type": "markdown",
   "metadata": {},
   "source": [
    "3\\. Display the original signal $\\bar{x}$ as a function of $T$ (use log scale on the horizontal axis)."
   ]
  },
  {
   "cell_type": "code",
   "execution_count": 6,
   "metadata": {},
   "outputs": [
    {
     "data": {
      "text/plain": [
       "<matplotlib.collections.PathCollection at 0x1dc9de1a2e8>"
      ]
     },
     "execution_count": 6,
     "metadata": {},
     "output_type": "execute_result"
    },
    {
     "data": {
      "image/png": "[encoded data removed]",
      "text/plain": [
       "<matplotlib.figure.Figure at 0x1dc8e2e1128>"
      ]
     },
     "metadata": {},
     "output_type": "display_data"
    }
   ],
   "source": [
    "plt.scatter(np.log(T),signal)"
   ]
  },
  {
   "cell_type": "markdown",
   "metadata": {},
   "source": [
    "4\\. Create $t$ using a regular sampling strategy:\n",
    "\\begin{equation}\n",
    "\\left(\\forall m\\in\\{1,\\dots,M\\}\\right)\\qquad t^{(m)}=t_{\\min}+\\frac{m-1}{M-1}\\left(t_{\\max}-t_{\\min}\\right),\n",
    "\\end{equation}\n",
    "with $M=50, t_{\\min}=0, t_{\\max}=1.5$"
   ]
  },
  {
   "cell_type": "code",
   "execution_count": 7,
   "metadata": {},
   "outputs": [],
   "source": [
    "t_min=0\n",
    "t_max=1.5\n",
    "M=50\n",
    "m=np.arange(1,M+1)\n",
    "t=t_min+(m-1)/(M-1)*(t_max-t_min)"
   ]
  },
  {
   "cell_type": "markdown",
   "metadata": {},
   "source": [
    "5\\. Construct matrix $K\\in\\mathbb{R}^{MxN}$  using the following equation:\n",
    "\\begin{equation}\n",
    "\\left(\\forall m\\in\\{1,\\dots,M\\}\\right)\\left(\\forall n\\in\\{1,\\dots,N\\}\\right)\\qquad K^{(m,n)}=\\exp(-T^{n}t^(m)\n",
    "\\end{equation}\n"
   ]
  },
  {
   "cell_type": "code",
   "execution_count": 8,
   "metadata": {},
   "outputs": [],
   "source": [
    "K=np.zeros((M,N))\n",
    "\n",
    "for i in range(M):\n",
    "    for j in range(N):\n",
    "        K[i,j]=np.exp(-T[j]*t[i])\n"
   ]
  },
  {
   "cell_type": "markdown",
   "metadata": {},
   "source": [
    "6\\.Simulate the noisy data according to model the above, by taking $w\\sim\\mathcal{N}(0,\\sigma^2\\mathbb{I}_M)$ with $\\sigma=0.01z^{(1)}$, where $z = K\\bar{x}.$\n",
    "\\begin{equation}\n",
    "y=K\\bar{x}+w,\n",
    "\\end{equation}\n",
    "where $\\bar{x}\\in\\mathbb{R}^N$ is the sought signal related to $\\left(\\mathcal{X}(T^{(n)})\\right)_{1\\leq n\\leq N}$ and $w\\in\\mathbb{R}^M$ is the perturbation noise"
   ]
  },
  {
   "cell_type": "code",
   "execution_count": 9,
   "metadata": {},
   "outputs": [],
   "source": [
    "np.random.seed(172527)\n",
    "y  = K.dot(signal)\n",
    "y += np.random.multivariate_normal(np.zeros(M),(0.01**2)*np.eye(M))"
   ]
  },
  {
   "cell_type": "code",
   "execution_count": 10,
   "metadata": {},
   "outputs": [],
   "source": [
    "#w=np.random.multivariate_normal(np.zeros(M),(0.01**2)*np.eye(M))\n",
    "#y=K.dot(signal)+w"
   ]
  },
  {
   "cell_type": "markdown",
   "metadata": {},
   "source": [
    "7\\. Display the resulting noisy data y as a function of t"
   ]
  },
  {
   "cell_type": "code",
   "execution_count": 11,
   "metadata": {},
   "outputs": [
    {
     "data": {
      "text/plain": [
       "<matplotlib.collections.PathCollection at 0x1dc9feb6400>"
      ]
     },
     "execution_count": 11,
     "metadata": {},
     "output_type": "execute_result"
    },
    {
     "data": {
      "image/png": "[encoded data removed]",
      "text/plain": [
       "<matplotlib.figure.Figure at 0x1dc9de667b8>"
      ]
     },
     "metadata": {},
     "output_type": "display_data"
    }
   ],
   "source": [
    "plt.scatter(t,y)"
   ]
  },
  {
   "cell_type": "markdown",
   "metadata": {},
   "source": [
    "<div class=\"alert alert-block alert-info\">\n",
    "<b>Problem:</b> We propose here to find an estimate $\\hat{x}\\in \\mathbb{R}^n$ of $\\bar{x}$ by solving the following minimization problem, requiring the knowledge of $K$ and y:\n",
    "\\begin{equation}\n",
    "    \\hat{x}=\\underset{x \\in \\mathbb{R}^N}{\\operatorname{argmin}} \\frac{1}{2}||Kx-y||^2+\\beta g(x)\\label{eq1}\\tag{1} \n",
    "\\end{equation}\n",
    "</div>"
   ]
  },
  {
   "cell_type": "markdown",
   "metadata": {},
   "source": [
    "## Comparison of regularization strategies"
   ]
  },
  {
   "cell_type": "markdown",
   "metadata": {},
   "source": [
    "## Smothness prior \n",
    "In the first case, we define:\n",
    "\n",
    "\n",
    "\\begin{equation}\n",
    "g(x)=\\frac{1}{2}||Dx||^2 \\qquad \\forall x\\in\\mathbb{R}^N;\n",
    "\\end{equation}\n",
    "\n",
    "where $D\\in\\mathbb{R}^{NxN}$ is the discrete gradient operator such that,\n",
    "\n",
    "\\begin{equation}\n",
    "[Dx]^{n}=x^{(n)}-x^{(n-1)} \\qquad \\forall n=\\{1,\\dots,N\\};\n",
    "\\end{equation}\n",
    "\n",
    "with the circular convention $x^{(0)}=x^{(N)}$, such that we can rewrite ([1](#mjx-eqn-eq1)) as follows:\n",
    "\n",
    "\\begin{equation}\\hat{x}=\\underset{x \\in \\mathbb{R}^N}{\\operatorname{argmin}} \\frac{1}{2}||Kx-y||^2+\\frac{\\beta}{2} ||Dx||^2 \\label{eq2}\\tag{2} \n",
    "\\end{equation}\n"
   ]
  },
  {
   "cell_type": "markdown",
   "metadata": {},
   "source": [
    "**1. Discuss the existence and uniqueness of a solution to Problem ([2](#mjx-eqn-eq1))**\n",
    "\n",
    "We note $F(x):=\\frac{1}{2}||Kx-y||^2+\\frac{\\beta}{2} ||Dx||^2$, this function is differentiable and\n",
    "\n",
    "\\begin{align}\n",
    "    \\nabla F(x)& = K^\\top (Kx-y)+\\beta D^\\top Dx, &    \\nabla^2 F(x)&= K^\\top K + \\beta D^\\top D.\n",
    "\\end{align}\n",
    "\n",
    "We have that the function is strictly convexe since\n",
    "\\begin{align}\n",
    "    x^\\top( K^\\top K+\\beta D^\\top D) \\, x=0\n",
    "\\end{align}\n",
    "Implies that $||Kx||^2+||Dx||^2 =0$ then $x \\in \\textbf{Ker}(K) \\cap \\textbf{Ker}(D)$. The elements of  $\\textbf{Ker}(D)$ are of the form $\\alpha*(1,\\dots,1)$ by definition of D. Nevertheless, $K$ is defined as $K = \\exp{(-t \\otimes T)}$ forcing $\\alpha=0$. \n",
    "\n",
    "Then $K^\\top K+\\beta D^\\top D$ is a positive definite matrix and in consequence invertible. This proves that $F$ is strictly convex and the solution to the optimization problem is unique.  \n",
    "\n",
    "**2. Propose an approach to solve problem ([2](#mjx-eqn-eq1))**\n",
    "\n",
    "We can find the solution to the problem by using the following formula:\n",
    "\n",
    "$$x=( K^\\top K+\\beta D^\\top D)^{-1} K^\\top y$$\n",
    "\n",
    "**3. Implement it, and display the restored signal $\\hat{x}$.**"
   ]
  },
  {
   "cell_type": "code",
   "execution_count": 12,
   "metadata": {},
   "outputs": [],
   "source": [
    "def D(n):\n",
    "    D=np.zeros((n,n))\n",
    "    D[0,0]=1\n",
    "    D[0,n-1]=1\n",
    "    for i in range(1,n):\n",
    "        D[i,i]=1\n",
    "        D[i,i-1]=-1\n",
    "    return(D)"
   ]
  },
  {
   "cell_type": "code",
   "execution_count": 13,
   "metadata": {},
   "outputs": [],
   "source": [
    "def NQE(x_real,x_recons):\n",
    "    #e=np.sum((x_real-x_recons)**2)/(np.sum(x_real**2))\n",
    "    e=LA.norm(x_real-x_recons,2)/(LA.norm(x_real, 2))\n",
    "    return(e)"
   ]
  },
  {
   "cell_type": "code",
   "execution_count": 14,
   "metadata": {},
   "outputs": [],
   "source": [
    "def Close_Solution(y,K,beta):\n",
    "    n=K.shape[1];    D_=D(n)\n",
    "    M = D_.T.dot(D_);    M*= beta;    M+= K.T.dot(K)\n",
    "    return LA.solve(M,K.T.dot(y))"
   ]
  },
  {
   "cell_type": "markdown",
   "metadata": {},
   "source": [
    "The best regularization in this case is $\\beta=1$. However, the recover image is not perfect: the solution fails to shrink the right tail of the reconstructed signal and both components have the same value in the y-axis. "
   ]
  },
  {
   "cell_type": "code",
   "execution_count": 15,
   "metadata": {},
   "outputs": [
    {
     "data": {
      "text/plain": [
       "[19.951840653324638,\n",
       " 1.3095889423808031,\n",
       " 0.6641726471181002,\n",
       " 0.38702407399695005,\n",
       " 0.5762678258689519,\n",
       " 0.669152784044086,\n",
       " 0.749846114842339,\n",
       " 0.7654550487550443,\n",
       " 0.7654550487550443]"
      ]
     },
     "execution_count": 15,
     "metadata": {},
     "output_type": "execute_result"
    }
   ],
   "source": [
    "beta=[0.0001,0.01,0.1,1.,10.,100.,1000.,10000.,10000.]\n",
    "solutions=[Close_Solution(y,K,x) for x in beta]\n",
    "evaluations=[NQE(signal,x) for x in solutions]\n",
    "evaluations"
   ]
  },
  {
   "cell_type": "code",
   "execution_count": 16,
   "metadata": {},
   "outputs": [
    {
     "data": {
      "image/png": "[encoded data removed]",
      "text/plain": [
       "<matplotlib.figure.Figure at 0x1dc9fee6940>"
      ]
     },
     "metadata": {},
     "output_type": "display_data"
    }
   ],
   "source": [
    "best_solution=solutions[np.argmin(evaluations)]\n",
    "plt.scatter(np.log(T),best_solution)\n",
    "plt.title(r'$\\beta$ = '+str(beta[np.argmin(evaluations)]))\n",
    "plt.show()"
   ]
  },
  {
   "cell_type": "markdown",
   "metadata": {},
   "source": [
    "Now, we take values in the interval $[0.5,5]$. The best  value of $\\beta$ is  $0.6$ which improves the reconstruction of the right tail of the signal."
   ]
  },
  {
   "cell_type": "code",
   "execution_count": 17,
   "metadata": {},
   "outputs": [
    {
     "name": "stdout",
     "output_type": "stream",
     "text": [
      "Time to output features: 0.21880745887756348\n",
      "Evaluation:0.36501438969065764\n"
     ]
    },
    {
     "data": {
      "image/png": "[encoded data removed]",
      "text/plain": [
       "<matplotlib.figure.Figure at 0x1dc9fe943c8>"
      ]
     },
     "metadata": {},
     "output_type": "display_data"
    }
   ],
   "source": [
    "start = time.time()\n",
    "beta       = np.arange(0.5, 5.0, 1/10.0)\n",
    "solutions  = [Close_Solution(y,K,x) for x in beta]\n",
    "evaluations= [NQE(signal,x) for x in solutions]\n",
    "end = time.time()\n",
    "print(\"Time to output features: \" + str(end-start))\n",
    "print('Evaluation:'+str(evaluations[np.argmin(evaluations)]))\n",
    "\n",
    "plt.figure(figsize=(20, 4))\n",
    "plt.subplot(1, 2, 1)\n",
    "plt.plot(beta,evaluations,'r')\n",
    "plt.title('NQE values wrt '+r'$\\beta$')\n",
    "\n",
    "best_solution = solutions[np.argmin(evaluations)]\n",
    "plt.subplot(1, 2, 2)\n",
    "plt.scatter(np.log(T),best_solution)\n",
    "plt.title(r'$\\beta$ = '+str(beta[np.argmin(evaluations)]));    plt.show()\n"
   ]
  },
  {
   "cell_type": "markdown",
   "metadata": {},
   "source": [
    "### Smoothness prior + constraints. \n",
    "\n",
    "The second case we have $g(x)=\\frac{1}{2} ||Dx||^2 + i_{[x_{min},x_{max}]^N} (x)$, and the minimize problem ([1](#mjx-eqn-eq1)) is\n",
    "\n",
    "\\begin{align}\n",
    "\\hat{x} &= \\underset{x \\in \\mathbb{R}^N}{\\operatorname{argmin}} \\frac{||Kx-y||^2}{2} + \\frac{1}{2} ||Dx||^2 +  i_{[x_{min},x_{max}]^N} (x) \\\\ &= \\underset{[x_{min},x_{max}]^N}{\\operatorname{argmin}} \\frac{||Kx-y||^2}{2} + \\frac{1}{2} ||Dx||^2\n",
    "\\end{align}\n",
    "\n",
    "The function is continuos in a compact set, then the problem has at least a solution. As the function is strictly convex according to the last question, the solution is unique."
   ]
  },
  {
   "cell_type": "markdown",
   "metadata": {},
   "source": [
    "It is easy to compute the proximity operator of the indicator function, it is the proyection operator. A good algorithm to solve the problem will be the projected gradient descent."
   ]
  },
  {
   "cell_type": "code",
   "execution_count": 18,
   "metadata": {},
   "outputs": [],
   "source": [
    "def gradient(x,y,K,D,beta):    return K.T.dot(K.dot(x)-y) + beta*(D.T.dot(D)).dot(x)"
   ]
  },
  {
   "cell_type": "code",
   "execution_count": 19,
   "metadata": {},
   "outputs": [],
   "source": [
    "x_min=np.min(signal)\n",
    "x_max=np.max(signal)"
   ]
  },
  {
   "cell_type": "code",
   "execution_count": 20,
   "metadata": {},
   "outputs": [],
   "source": [
    "def grad_proy(x_0,y,K,beta,prec,x_min,x_max):\n",
    "    D_=D(K.shape[1])\n",
    "    V=(K.transpose()).dot(K)+beta*(D_.transpose()).dot(D_)\n",
    "    v,e=np.linalg.eig(V)\n",
    "    v=np.max(v)\n",
    "    gamma=2./v\n",
    "    l=2.-gamma*(v/2.)\n",
    "    x_old=copy.deepcopy(x_0)\n",
    "    z=x_old-gamma*gradient(x_old,y,K,D_,beta)\n",
    "    x_new=x_old+l*(np.clip(z,x_min,x_max)-x_old)      \n",
    "    while np.sqrt(np.sum((x_new-x_old)**2))>prec:       \n",
    "        x_old=copy.deepcopy(x_new)\n",
    "        z=x_old-gamma*gradient(x_old,y,K,D_,beta)\n",
    "        x_new=x_old+l*(np.clip(z,x_min,x_max)-x_old)\n",
    "        #print(np.sqrt(np.sum((x_new-x_old)**2)))\n",
    "    return(x_new)\n",
    "    "
   ]
  },
  {
   "cell_type": "code",
   "execution_count": 21,
   "metadata": {},
   "outputs": [],
   "source": [
    "prec=1e-6\n",
    "beta=[0.0001,0.001,0.01,0.1,1,10]\n",
    "x_0=((x_max-x_min)/2)*np.ones(signal.shape[0])\n",
    "solutions=[grad_proy(x_0,y,K,b,prec,x_min,x_max) for b in beta]\n",
    "evaluations=[NQE(signal,x) for x in solutions]\n"
   ]
  },
  {
   "cell_type": "markdown",
   "metadata": {},
   "source": [
    "Adding the constrains improves the quality of the recover signal compared to the last function. In this case the optimal value of $\\beta$ is $0.1$. "
   ]
  },
  {
   "cell_type": "code",
   "execution_count": 66,
   "metadata": {},
   "outputs": [
    {
     "name": "stdout",
     "output_type": "stream",
     "text": [
      "[0.1894927408216543, 0.19010444999238574, 0.18466168619983808, 0.17454659493463145, 0.2573306524873079, 0.4541825518974266]\n"
     ]
    }
   ],
   "source": [
    "evaluations=[NQE(signal,x) for x in solutions]\n",
    "print(evaluations)"
   ]
  },
  {
   "cell_type": "code",
   "execution_count": 68,
   "metadata": {},
   "outputs": [
    {
     "data": {
      "image/png": "[encoded data removed]",
      "text/plain": [
       "<matplotlib.figure.Figure at 0x20979e37f98>"
      ]
     },
     "metadata": {},
     "output_type": "display_data"
    }
   ],
   "source": [
    "plt.figure(figsize=(20, 4))\n",
    "plt.subplot(1, 2, 1)\n",
    "plt.plot(beta,evaluations,'r')\n",
    "plt.title('NQE values wrt '+r'$\\beta$')\n",
    "\n",
    "plt.subplot(1, 2, 2)\n",
    "best_solution = solutions[np.argmin(evaluations)]\n",
    "plt.scatter(np.log(T),best_solution);    plt.title(r'$\\beta$ = '+str(beta[np.argmin(evaluations)]));    plt.show()"
   ]
  },
  {
   "cell_type": "markdown",
   "metadata": {},
   "source": [
    "In addition, this algorithm has a computation time of $55.0398s$"
   ]
  },
  {
   "cell_type": "code",
   "execution_count": 33,
   "metadata": {},
   "outputs": [
    {
     "data": {
      "image/png": "[encoded data removed]",
      "text/plain": [
       "<Figure size 432x288 with 1 Axes>"
      ]
     },
     "metadata": {
      "needs_background": "light"
     },
     "output_type": "display_data"
    },
    {
     "name": "stdout",
     "output_type": "stream",
     "text": [
      "Time to output features: 354.19088792800903\n"
     ]
    }
   ],
   "source": [
    "start = time.time()\n",
    "prec = 1e-8\n",
    "beta = [0.2]#np.arange(0.1, 1, 1/10.0)\n",
    "x_0  = np.repeat((x_max-x_min)/0.5, N)\n",
    "solutions     = [grad_proy(x_0,y,K,b,prec,x_min,x_max) for b in beta]\n",
    "evaluations   = [NQE(signal,x) for x in solutions]\n",
    "best_solution = solutions[np.argmin(evaluations)]\n",
    "plt.scatter(np.log(T),best_solution)\n",
    "plt.title(r'$\\beta$ = '+str(beta[np.argmin(evaluations)]))\n",
    "plt.show()\n",
    "end = time.time()\n",
    "print(\"Time to output features: \" + str(end-start))"
   ]
  },
  {
   "cell_type": "code",
   "execution_count": 34,
   "metadata": {},
   "outputs": [
    {
     "name": "stdout",
     "output_type": "stream",
     "text": [
      "Evaluation: 0.19312960272193969\n"
     ]
    }
   ],
   "source": [
    "print('Evaluation: '+str(evaluations[0]))"
   ]
  },
  {
   "cell_type": "markdown",
   "metadata": {},
   "source": [
    "## Sparsity prior.\n",
    "The next case, we consider the function:\n",
    "\n",
    "\\begin{equation}\n",
    "g(x)=||x||_1\n",
    "\\end{equation}\n",
    "\n",
    "We can define the problem ([1](#mjx-eqn-eq1)) as follows:\n",
    "\n",
    "\\begin{align}\n",
    "\\hat{x} &= \\underset{x \\in \\mathbb{R}^N}{\\operatorname{argmin}}\\frac{||Kx-y||^2}{2} +  \\beta||x||_1  \n",
    "\\end{align}"
   ]
  },
  {
   "cell_type": "markdown",
   "metadata": {},
   "source": [
    "The function is the sum of two functions in $\\Gamma_0(H)$, then it is in $\\Gamma_0(H)$. The function to optimize is lowerbound by the norm L1 of x multiplied by $\\beta$, then it is coercive. The problem has a solution. Aditionally if $K^T K$ is positive definite, the solution to the optimization problem would be unique. "
   ]
  },
  {
   "cell_type": "code",
   "execution_count": 22,
   "metadata": {},
   "outputs": [],
   "source": [
    "def gradient_2(x,y,K):\n",
    "    grad=(K.transpose()).dot(K.dot(x)-y)\n",
    "    return(grad)\n",
    "\n",
    "def proy_2(x,c):\n",
    "    proy=np.sign(x)*np.where((np.abs(x)-c)>0,np.abs(x)-c,0)\n",
    "    return(proy)"
   ]
  },
  {
   "cell_type": "code",
   "execution_count": 23,
   "metadata": {},
   "outputs": [],
   "source": [
    "def grad_proy_2(x_0,y,K,beta,prec):\n",
    "    V=(K.transpose()).dot(K)\n",
    "    v,e=np.linalg.eig(V)\n",
    "    v=np.max(np.real(v))\n",
    "    gamma=(2./v)*(4./5.)\n",
    "    #gamma=(2./v)\n",
    "    d=(2.-gamma*(v/2.))\n",
    "    l=(d/2.)\n",
    "    x_old=copy.deepcopy(x_0)\n",
    "    z=x_old-gamma*gradient_2(x_old,y,K)\n",
    "    x_new=x_old+l*(proy_2(z,beta*gamma)-x_old)     \n",
    "    while np.sqrt(np.sum((x_new-x_old)**2))>prec:       \n",
    "        x_old=copy.deepcopy(x_new)\n",
    "        z=x_old-gamma*gradient_2(x_old,y,K)\n",
    "        x_new=x_old+l*(proy_2(z,gamma*beta)-x_old)\n",
    "        #print(np.sqrt(np.sum((x_new-x_old)**2)))\n",
    "    return(x_new)"
   ]
  },
  {
   "cell_type": "markdown",
   "metadata": {},
   "source": [
    "The optimization problem leads to a better solution when the paramenter $beta$ is set to $0.01$. "
   ]
  },
  {
   "cell_type": "code",
   "execution_count": 24,
   "metadata": {},
   "outputs": [],
   "source": [
    "prec=1e-6\n",
    "beta=[0.001,0.01,0.1,1,10,100]\n",
    "x_0=((x_max-x_min)/2)*np.ones(signal.shape[0])\n",
    "solutions=[grad_proy_2(x_0,y,K,b,prec) for b in beta]"
   ]
  },
  {
   "cell_type": "code",
   "execution_count": 25,
   "metadata": {},
   "outputs": [
    {
     "name": "stdout",
     "output_type": "stream",
     "text": [
      "[0.23123876756436565, 0.20083870912432641, 0.5582918248973466, 1.2512530207461476, 0.9999976992508164, 0.9999976992508164]\n"
     ]
    }
   ],
   "source": [
    "evaluations=[NQE(signal,x) for x in solutions]\n",
    "print(evaluations)"
   ]
  },
  {
   "cell_type": "code",
   "execution_count": 26,
   "metadata": {},
   "outputs": [
    {
     "data": {
      "image/png": "[encoded data removed]",
      "text/plain": [
       "<matplotlib.figure.Figure at 0x1dca0f9f438>"
      ]
     },
     "metadata": {},
     "output_type": "display_data"
    }
   ],
   "source": [
    "plt.figure(figsize=(20, 4))\n",
    "plt.subplot(1, 2, 1)\n",
    "plt.plot(beta,evaluations,'r')\n",
    "plt.title('NQE values wrt '+r'$\\beta$')\n",
    "\n",
    "plt.subplot(1, 2, 2)\n",
    "\n",
    "best_solution=solutions[np.argmin(evaluations)]\n",
    "plt.scatter(np.log(T),best_solution)\n",
    "plt.title(r'$\\beta$ = '+str(beta[np.argmin(evaluations)]))\n",
    "plt.show()"
   ]
  },
  {
   "cell_type": "code",
   "execution_count": null,
   "metadata": {},
   "outputs": [],
   "source": [
    "start = time.time()\n",
    "prec=1e-8\n",
    "beta=[0.01]\n",
    "x_0=((x_max-x_min)/2)*np.ones(signal.shape[0])\n",
    "solutions=[grad_proy_2(x_0,y,K,b,prec) for b in beta]\n",
    "evaluations=[NQE(signal,x) for x in solutions]\n",
    "#plt.scatter(np.log(T),best_solution)\n",
    "end = time.time()\n",
    "print(\"Time to output features: \" + str(end-start))"
   ]
  },
  {
   "cell_type": "code",
   "execution_count": 109,
   "metadata": {},
   "outputs": [
    {
     "data": {
      "text/plain": [
       "<matplotlib.collections.PathCollection at 0x27f05239080>"
      ]
     },
     "execution_count": 109,
     "metadata": {},
     "output_type": "execute_result"
    },
    {
     "data": {
      "image/png": "[encoded data removed]",
      "text/plain": [
       "<matplotlib.figure.Figure at 0x27f051d7978>"
      ]
     },
     "metadata": {},
     "output_type": "display_data"
    }
   ],
   "source": [
    "best_solution=solutions[np.argmin(evaluations)]\n",
    "plt.scatter(np.log(T),best_solution)\n"
   ]
  },
  {
   "cell_type": "markdown",
   "metadata": {},
   "source": [
    "# Maximum Entropy Regularization"
   ]
  },
  {
   "cell_type": "markdown",
   "metadata": {},
   "source": [
    "$$x=\\underset{x \\in \\mathbb{R}^N}{\\operatorname{argmin}} \\frac{||Kx-y||^2}{2} + \\beta ent(x)$$\n",
    "\n",
    "The function $\\psi(x)=xlogx$ is clearly proper andlower semi-continuos. The second derivative of  $\\psi''(x)=\\frac{1}{x}$ is strictly positive over $]0,\\infty]$ the it is strictly convex over this interval. The function is convex in all R cause its epigrah is a convex set. The function is not differentiable at 0. Aditionally we can see that it is coercive. \n",
    "\n",
    "We have that the function to minimize is in $\\Gamma_0$ as it is the sum of two functions in $\\Gamma_0$. Additionaly we have that:\n",
    "\n",
    "$$\\frac{||Kx-y||^2}{2}+ \\beta ent(x) \\geq \\beta ent(x)$$\n",
    "\n",
    "Then our objective function is coercive too. Then our problem has a solution. As the ent(x) function is stricly convex over $]0,\\infty ]$, our objective function will be stricly convex over the interval, then we will have a unique solution to our problem. \n",
    "\n"
   ]
  },
  {
   "cell_type": "markdown",
   "metadata": {},
   "source": [
    "$prox_{\\gamma ent}(x)=(prox_{\\gamma \\phi}(x_i))_{(i=1,2,..,n)}$\n",
    "\n",
    "$prox_{\\gamma \\phi}(x)=\\underset{u \\in \\mathbb{R}}{\\operatorname{\\inf}} \\gamma*\\phi(u) + \\frac{||u-x||^2}{2}= \\underset{u \\in ]0,\\infty]}{\\operatorname{\\inf}}\\gamma*\\phi(u) + \\frac{||u-x||^2}{2}$ \n",
    "\n",
    "\\begin{align}\n",
    "\\frac{\\partial}{\\partial u}\\left(\\frac{1}{2} ||u-x||^2+\\gamma log(u)\\right)&=-(x-u)+\\gamma+\\gamma log(u)\\\\\n",
    "&=-\\frac{x-u}{\\gamma}+1+log(u) \n",
    "\\end{align}\n",
    "We look for the optimal solution when $\\frac{x-u}{\\gamma}+1+log(u)=0$ then\n",
    "\\begin{align}\n",
    "\\frac{u}{\\gamma}+log(\\frac{u}{\\gamma})&=\\frac{x}{\\gamma}-1-log(\\gamma)\\\\\n",
    "&\\Leftrightarrow \\frac{u}{\\gamma}exp({u/\\gamma})=exp(\\frac{x}{\\gamma}-1-log(\\gamma))\\\\\n",
    "&\\Leftrightarrow u=\\gamma W(exp(\\frac{x-\\gamma}{\\gamma}-log(\\gamma)))\n",
    "\\end{align}"
   ]
  },
  {
   "cell_type": "code",
   "execution_count": 20,
   "metadata": {},
   "outputs": [],
   "source": [
    "def Lambert_w(x):\n",
    "    if x>=100:\n",
    "        return(np.log(x))\n",
    "    if x<=-20:\n",
    "        return(0)\n",
    "    if(x>-20 and x<100):\n",
    "        branch=np.sign(x)\n",
    "        if branch==1.:\n",
    "            w=1.\n",
    "        else:\n",
    "            w=-2.\n",
    "        v=1e6*w\n",
    "    \n",
    "        while((np.abs(w - v)/np.abs(w))>1e-8):\n",
    "            v = w\n",
    "            e = np.exp(v)\n",
    "            f = v*e - x  \n",
    "            w = v - f/((e*(v+1) - (v+2)*f/(2*v+2)))        \n",
    "    return(w)      "
   ]
  },
  {
   "cell_type": "code",
   "execution_count": 21,
   "metadata": {},
   "outputs": [],
   "source": [
    "Lambert_W = np.vectorize(Lambert_w)"
   ]
  },
  {
   "cell_type": "markdown",
   "metadata": {},
   "source": [
    "## Forward-Backward"
   ]
  },
  {
   "cell_type": "code",
   "execution_count": 89,
   "metadata": {},
   "outputs": [],
   "source": [
    "def gradient_2(x,y,K):\n",
    "    grad=K.transpose().dot(K.dot(x)-y)\n",
    "    return(grad)\n",
    "\n",
    "def prox_2(x,c):\n",
    "    #print(x)\n",
    "    #print(np.exp(((x-c)/c)-np.log(c)))\n",
    "    prox=c*Lambert_W(np.exp(((x-c)/c)-np.log(c)))\n",
    "    return(prox)\n",
    "\n",
    "def forward_backward(x_0,y,K,beta,prec):\n",
    "    V=(K.transpose()).dot(K)\n",
    "    v,e=np.linalg.eig(V)\n",
    "    v=np.max(np.real(v))\n",
    "    gamma=2./v\n",
    "    l=2.-gamma*(v/2.)\n",
    "    x_old=copy.deepcopy(x_0)\n",
    "    z=x_old-gamma*gradient_2(x_old,y,K)\n",
    "    x_new=x_old+l*(-x_old) \n",
    "    while np.sqrt(np.sum((x_new-x_old)**2))>prec:       \n",
    "        x_old=copy.deepcopy(x_new)\n",
    "        z=x_old-gamma*gradient_2(x_old,y,K)\n",
    "        x_new=x_old+l*(prox_2(z,gamma*beta)-x_old)\n",
    "        #print(np.sqrt(np.sum((x_new-x_old)**2)))\n",
    "    return(x_new)\n"
   ]
  },
  {
   "cell_type": "code",
   "execution_count": 91,
   "metadata": {},
   "outputs": [
    {
     "name": "stderr",
     "output_type": "stream",
     "text": [
      "C:\\Anaconda3\\lib\\site-packages\\ipykernel_launcher.py:14: RuntimeWarning: divide by zero encountered in double_scalars\n",
      "  \n"
     ]
    }
   ],
   "source": [
    "prec=1e-5\n",
    "beta=[0.01,0.1,1,10]\n",
    "x_0=np.ones(signal.shape[0])\n",
    "solutions=[forward_backward(x_0,y,K,b,prec) for b in beta] "
   ]
  },
  {
   "cell_type": "code",
   "execution_count": 92,
   "metadata": {},
   "outputs": [
    {
     "data": {
      "text/plain": [
       "[0.38763214189341766, 1.3668117218835059, 4.417975196715303, 7.405454191704681]"
      ]
     },
     "execution_count": 92,
     "metadata": {},
     "output_type": "execute_result"
    }
   ],
   "source": [
    "evaluations=[NQE(signal,x) for x in solutions]\n",
    "evaluations"
   ]
  },
  {
   "cell_type": "code",
   "execution_count": 94,
   "metadata": {},
   "outputs": [
    {
     "data": {
      "image/png": "[encoded data removed]",
      "text/plain": [
       "<matplotlib.figure.Figure at 0x20979cfcb38>"
      ]
     },
     "metadata": {},
     "output_type": "display_data"
    }
   ],
   "source": [
    "plt.figure(figsize=(20, 4))\n",
    "plt.subplot(1, 2, 1)\n",
    "plt.plot(beta,evaluations,'r')\n",
    "plt.title('NQE values wrt '+r'$\\beta$')\n",
    "\n",
    "plt.subplot(1, 2, 2)\n",
    "best_solution=solutions[np.argmin(evaluations)]\n",
    "plt.scatter(np.log(T),best_solution)\n",
    "plt.title(r'$\\beta$ = '+str(beta[np.argmin(evaluations)]))\n",
    "plt.show()"
   ]
  },
  {
   "cell_type": "code",
   "execution_count": 99,
   "metadata": {},
   "outputs": [
    {
     "name": "stderr",
     "output_type": "stream",
     "text": [
      "C:\\Anaconda3\\lib\\site-packages\\ipykernel_launcher.py:14: RuntimeWarning: divide by zero encountered in double_scalars\n",
      "  \n"
     ]
    },
    {
     "data": {
      "image/png": "[encoded data removed]",
      "text/plain": [
       "<matplotlib.figure.Figure at 0x20979f09dd8>"
      ]
     },
     "metadata": {},
     "output_type": "display_data"
    },
    {
     "name": "stdout",
     "output_type": "stream",
     "text": [
      "Time to output features: 3.4058985710144043\n",
      "Evaluation:0.38763214189341766\n"
     ]
    }
   ],
   "source": [
    "start = time.time()\n",
    "prec=1e-5\n",
    "beta=[0.01]\n",
    "x_0=np.ones(signal.shape[0])\n",
    "solutions=[forward_backward(x_0,y,K,b,prec) for b in beta] \n",
    "evaluations=[NQE(signal,x) for x in solutions]\n",
    "#evaluations\n",
    "best_solution=solutions[np.argmin(evaluations)]\n",
    "plt.scatter(np.log(T),best_solution)\n",
    "plt.title(r'$\\beta$ = '+str(beta[np.argmin(evaluations)]))\n",
    "plt.show()\n",
    "end = time.time()\n",
    "print(\"Time to output features: \" + str(end-start))\n",
    "print('Evaluation:'+str(evaluations[0]))"
   ]
  },
  {
   "cell_type": "markdown",
   "metadata": {},
   "source": [
    "## Douglas Rachford"
   ]
  },
  {
   "cell_type": "code",
   "execution_count": 102,
   "metadata": {},
   "outputs": [],
   "source": [
    "#def prox_3(x_0,y,K,c):\n",
    " #   n=len(x_0)\n",
    "  #  V=np.linalg.inv(np.eye(n)+c*(K.transpose().dot(K)))\n",
    "   # return(V.dot(x_0+c*K.transpose().dot(y)))\n",
    "def prox_3(x_0,y,K,c):\n",
    "    V = K.T.dot(K)\n",
    "    M = V.copy();    M *= c;    M += np.eye(n)\n",
    "    return LA.solve(M, x_0 + c*K.T.dot(y))\n",
    "\n",
    "def DouRach(x_0,y,K,gamma,beta,prec):\n",
    "    x_old=copy.deepcopy(x_0)\n",
    "    lamb=1.999999\n",
    "    a=prox_2(x_old,gamma*beta)\n",
    "    b=prox_3(2*a-x_old,y,K,gamma)\n",
    "    x_new=x_old+lamb*(b-a)\n",
    "   \n",
    "    while np.sqrt(np.sum((x_new-x_old)**2))>prec:\n",
    "        x_old=copy.deepcopy(x_new)\n",
    "        a=prox_2(x_old,gamma*beta)\n",
    "        b=prox_3(2*a-x_old,y,K,gamma)\n",
    "        x_new=x_old+lamb*(b-a)\n",
    "        #print(np.sqrt(np.sum((x_new-x_old)**2)))\n",
    "    return(a)\n"
   ]
  },
  {
   "cell_type": "code",
   "execution_count": 103,
   "metadata": {},
   "outputs": [
    {
     "name": "stderr",
     "output_type": "stream",
     "text": [
      "C:\\Anaconda3\\lib\\site-packages\\ipykernel_launcher.py:14: RuntimeWarning: divide by zero encountered in double_scalars\n",
      "  \n"
     ]
    }
   ],
   "source": [
    "prec=1e-7\n",
    "beta=[0.001,0.01,0.1,1,10]\n",
    "gamma=10\n",
    "x_0=np.ones(signal.shape[0])\n",
    "solutions=[DouRach(x_0,y,K,gamma,b,prec) for b in beta]"
   ]
  },
  {
   "cell_type": "code",
   "execution_count": null,
   "metadata": {},
   "outputs": [],
   "source": [
    "evaluations=[NQE(signal,x) for x in solutions]\n",
    "evaluations"
   ]
  },
  {
   "cell_type": "code",
   "execution_count": 105,
   "metadata": {
    "scrolled": true
   },
   "outputs": [
    {
     "data": {
      "image/png": "[encoded data removed]",
      "text/plain": [
       "<matplotlib.figure.Figure at 0x2097a02c208>"
      ]
     },
     "metadata": {},
     "output_type": "display_data"
    }
   ],
   "source": [
    "plt.figure(figsize=(20, 4))\n",
    "plt.subplot(1, 2, 1)\n",
    "plt.plot(beta,evaluations,'r')\n",
    "plt.title('NQE values wrt '+r'$\\beta$')\n",
    "\n",
    "plt.subplot(1, 2, 2)\n",
    "best_solution=solutions[np.argmin(evaluations)]\n",
    "plt.scatter(np.log(T),best_solution)\n",
    "plt.title(r'$\\beta$ = '+str(beta[np.argmin(evaluations)]))\n",
    "plt.show()"
   ]
  },
  {
   "cell_type": "markdown",
   "metadata": {},
   "source": [
    "The following code tries to improve our model by tuning also the parameter gamma. A high value of gammma seems to improve the performance of the Douglas-Rachford algorithm."
   ]
  },
  {
   "cell_type": "code",
   "execution_count": 176,
   "metadata": {},
   "outputs": [
    {
     "name": "stdout",
     "output_type": "stream",
     "text": [
      "Time to output features: 2196.175332069397\n",
      "Evaluation:[0.16916838300545053]\n"
     ]
    },
    {
     "data": {
      "image/png": "[encoded data removed]",
      "text/plain": [
       "<matplotlib.figure.Figure at 0x27f067a2fd0>"
      ]
     },
     "metadata": {},
     "output_type": "display_data"
    }
   ],
   "source": [
    "start = time.time()\n",
    "prec=1e-7\n",
    "beta=[0.0001]#,0.01,0.1,1,10]\n",
    "gamma=10000\n",
    "x_0=np.ones(signal.shape[0])\n",
    "solutions=[DouRach(x_0,y,K,gamma,b,prec) for b in beta] \n",
    "evaluations=[NQE(signal,x) for x in solutions]\n",
    "best_solution=solutions[np.argmin(evaluations)]\n",
    "plt.scatter(np.log(T),best_solution)\n",
    "end = time.time()\n",
    "print(\"Time to output features: \" + str(end-start))\n",
    "print('Evaluation:'+str(evaluations))"
   ]
  },
  {
   "cell_type": "markdown",
   "metadata": {},
   "source": [
    "With this strategy the normalized quadratic error decreases from $0.4718$ to $0.1694$"
   ]
  },
  {
   "cell_type": "markdown",
   "metadata": {},
   "source": [
    "## PPXA"
   ]
  },
  {
   "cell_type": "code",
   "execution_count": 44,
   "metadata": {},
   "outputs": [],
   "source": [
    "from scipy.special import lambertw\n",
    "def prox_2(x,c):\n",
    "    arg  = x.copy();    arg /= c;    arg -= 1.0\n",
    "    return c*lambertw( np.exp( arg - np.log(c) ) ).real#c*lamb_w( np.exp( arg - np.log(c) ) )#c*lambertw( np.exp( arg - np.log(c) ) ).real\n",
    "\n",
    "def proy_sphere(x,y,r):    return y + (x-y) * np.min([r/np.sqrt(np.sum((y-x)**2)),1])"
   ]
  },
  {
   "cell_type": "code",
   "execution_count": 43,
   "metadata": {},
   "outputs": [],
   "source": [
    "def PPXA(x_0,K,data,eta,gamma=2,sigma=0.01,prec=1e-5):\n",
    "    l=1.999999\n",
    "    x_old=copy.deepcopy(x_0)\n",
    "    y=copy.deepcopy(x_old)\n",
    "    aux_inv=np.linalg.inv(np.eye(K.shape[1])+(K.transpose()).dot(K))\n",
    "    \n",
    "    v_old=aux_inv.dot(x_old[0]+(K.transpose()).dot(x_old[1]))\n",
    "    y[0]=prox_2(x_old[0],gamma)\n",
    "    y[1]=proy_sphere(x_old[1],data,sigma*np.sqrt(K.shape[0]*eta))\n",
    "    c_n=aux_inv.dot(y[0]+(K.transpose()).dot(y[1]))\n",
    "    x_new=copy.deepcopy(x_old)\n",
    "    x_new[0]=x_old[0]+l*(2*c_n-v_old-y[0])\n",
    "    x_new[1]=x_old[1]+l*(K.dot(2*c_n-v_old)-y[1])\n",
    "    v_new=v_old+l*(c_n-v_old)\n",
    "    i=1\n",
    "    while np.sqrt(np.sum((v_new-v_old)**2))>prec:\n",
    "        i+=1\n",
    "        #if i%100000==0:\n",
    "            #print(np.sqrt(np.sum((v_new-v_old)**2)))\n",
    "        x_old=copy.deepcopy(x_new)\n",
    "        v_old=copy.deepcopy(v_new)\n",
    "        y[0]=prox_2(x_old[0],gamma)\n",
    "        y[1]=proy_sphere(x_old[1],data,sigma*np.sqrt(K.shape[0]*eta))\n",
    "        c_n=aux_inv.dot(y[0]+(K.transpose()).dot(y[1]))\n",
    "        x_new[0]=x_old[0]+l*(2*c_n-v_old-y[0])\n",
    "        x_new[1]=x_old[1]+l*(K.dot(2*c_n-v_old)-y[1])\n",
    "        v_new=v_old+l*(c_n-v_old)\n",
    "        \n",
    "    return(v_new)\n"
   ]
  },
  {
   "cell_type": "code",
   "execution_count": 45,
   "metadata": {},
   "outputs": [
    {
     "name": "stdout",
     "output_type": "stream",
     "text": [
      "Time to output features: 1530.3959321975708\n"
     ]
    }
   ],
   "source": [
    "start = time.time()\n",
    "x_0=[np.ones(K.shape[1]),np.ones(K.shape[0])]\n",
    "solutions=PPXA(x_0,K,y,eta=1,gamma=2,sigma=0.01,prec=1e-6)\n",
    "end = time.time()\n",
    "print(\"Time to output features: \" + str(end-start))"
   ]
  },
  {
   "cell_type": "code",
   "execution_count": 46,
   "metadata": {},
   "outputs": [
    {
     "data": {
      "text/plain": [
       "<matplotlib.collections.PathCollection at 0x1dca1186320>"
      ]
     },
     "execution_count": 46,
     "metadata": {},
     "output_type": "execute_result"
    },
    {
     "data": {
      "image/png": "[encoded data removed]",
      "text/plain": [
       "<matplotlib.figure.Figure at 0x1dca10e8cf8>"
      ]
     },
     "metadata": {},
     "output_type": "display_data"
    }
   ],
   "source": [
    "plt.scatter(np.log(T),solutions)"
   ]
  },
  {
   "cell_type": "code",
   "execution_count": 47,
   "metadata": {},
   "outputs": [
    {
     "data": {
      "text/plain": [
       "0.49427226215083897"
      ]
     },
     "execution_count": 47,
     "metadata": {},
     "output_type": "execute_result"
    }
   ],
   "source": [
    "NQE(signal,solutions)"
   ]
  },
  {
   "cell_type": "markdown",
   "metadata": {},
   "source": [
    "## Conclusion\n",
    "| Model                            | Algorithm              | $\\beta$ | $\\frac{||\\hat{x}-\\bar{x}||}{||\\bar{x}||^2}$ | Time     |\n",
    "|----------------------------------|------------------------|---------|---------------------------------------------|----------|\n",
    "| Smoothness prior                 | Analytical Solution    | 0.6     | 0.3650                                      | 0.1525   |\n",
    "| Smoothness prior  + constrainsts | Project gradient       | 0.2     | 0.1931                                      | 55.039   |\n",
    "| Sparsity prior                   | Forward-Backward       | 0.01    | 0.1698                                      | 31.883   |\n",
    "| Maximum entropy                  | Forward-Backward       | 0.01    | 0.3876                                      | 3.4058   |\n",
    "| Maximum entropy                  | Douglas Rochford       | 0.001   | 0.1691                                      |2196.1753 |\n",
    "| Maximum entropy                  | PPXA                   |         | 0.4                                         |1530.39   |"
   ]
  },
  {
   "cell_type": "markdown",
   "metadata": {},
   "source": [
    "We can see how the Smoothness prior model is the one with the worst performance even if it has a close expression. The best one wrt. the error is the Douglas Rochford model an error to equal a $0.1691$ but it takes too much time to converge. We had to reduce the tolerence to 1e-6 to make it work. \n",
    "\n",
    "We were not able to make the PPXA algorithm to converge properly, the algorithm takes forever to converge \n"
   ]
  }
 ],
 "metadata": {
  "kernelspec": {
   "display_name": "Python 3",
   "language": "python",
   "name": "python3"
  },
  "language_info": {
   "codemirror_mode": {
    "name": "ipython",
    "version": 3
   },
   "file_extension": ".py",
   "mimetype": "text/x-python",
   "name": "python",
   "nbconvert_exporter": "python",
   "pygments_lexer": "ipython3",
   "version": "3.6.4"
  }
 },
 "nbformat": 4,
 "nbformat_minor": 2
}
